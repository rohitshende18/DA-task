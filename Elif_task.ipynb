{
 "cells": [
  {
   "cell_type": "code",
   "execution_count": null,
   "id": "e51214d2-d85d-4903-8cab-8be5a6d0e01e",
   "metadata": {},
   "outputs": [],
   "source": [
    "# Create a function to give variaous operation on text\n",
    "\n",
    "# op1 = join text\n",
    "# op2 = trim text\n",
    "# op3 = substiute text\n",
    "# op4 = cut and return specific postion of stringg ration"
   ]
  },
  {
   "cell_type": "code",
   "execution_count": 28,
   "id": "e708f88b-2eee-431f-88c7-2efff43e2338",
   "metadata": {},
   "outputs": [],
   "source": [
    "def text_operations(text, operation, *args):\n",
    "    \n",
    "    if operation == 'join':\n",
    "        return ' '.join(args)\n",
    "        \n",
    "    elif operation == 'trim':\n",
    "        return text.strip()\n",
    "        \n",
    "    elif operation == 'substitute':\n",
    "        old_substring, new_substring = args\n",
    "        return text.replace(old_substring, new_substring)\n",
    "        \n",
    "    elif operation == 'cut':\n",
    "        start, end = args\n",
    "        return text[start:end]\n",
    "        \n",
    "    else:\n",
    "        return \"Right\""
   ]
  },
  {
   "cell_type": "code",
   "execution_count": 2,
   "id": "034e0dba-15c1-4ec7-8cda-a6fc1b61fb8c",
   "metadata": {},
   "outputs": [],
   "source": [
    "text = \"   trim text    \""
   ]
  },
  {
   "cell_type": "markdown",
   "id": "592cea0a-de3e-4d81-94a2-3379a4175048",
   "metadata": {},
   "source": [
    "## Join Text"
   ]
  },
  {
   "cell_type": "code",
   "execution_count": 12,
   "id": "9ad6f34a-0591-41ec-a7a0-a62fd327016a",
   "metadata": {},
   "outputs": [
    {
     "name": "stdout",
     "output_type": "stream",
     "text": [
      "Right\n"
     ]
    }
   ],
   "source": [
    "print(text_operations(None,  \"right\", \"massage\", \"for\", \"friend\"))"
   ]
  },
  {
   "cell_type": "code",
   "execution_count": 8,
   "id": "5ee021c1-9045-48a2-a193-51ba0d4b0278",
   "metadata": {},
   "outputs": [
    {
     "name": "stdout",
     "output_type": "stream",
     "text": [
      "<function text_operations at 0x00000202DE45FCE0>\n"
     ]
    }
   ],
   "source": [
    "print(text_operations)"
   ]
  },
  {
   "cell_type": "code",
   "execution_count": 11,
   "id": "0f122f91-397d-47df-a0af-44829f93c7fc",
   "metadata": {},
   "outputs": [
    {
     "name": "stdout",
     "output_type": "stream",
     "text": [
      "Join text for task\n"
     ]
    }
   ],
   "source": [
    "print(text_operations(None, 'join', \"Join\", \"text\", \"for\", \"task\"))"
   ]
  },
  {
   "cell_type": "markdown",
   "id": "10bd913b-4644-4249-b6b6-39abd7c26689",
   "metadata": {},
   "source": [
    "## trim text"
   ]
  },
  {
   "cell_type": "code",
   "execution_count": 15,
   "id": "5536080b-cd7c-4093-81ad-d112f19b8952",
   "metadata": {},
   "outputs": [
    {
     "name": "stdout",
     "output_type": "stream",
     "text": [
      "trim text\n"
     ]
    }
   ],
   "source": [
    "print(text_operations(text, 'trim'))"
   ]
  },
  {
   "cell_type": "markdown",
   "id": "c0e0ccf9-f81f-4960-bfdc-4ba0752d6ced",
   "metadata": {},
   "source": [
    "## substiute text"
   ]
  },
  {
   "cell_type": "code",
   "execution_count": 16,
   "id": "f499a4e8-23d0-4203-a688-402f0c543ff9",
   "metadata": {},
   "outputs": [
    {
     "name": "stdout",
     "output_type": "stream",
     "text": [
      "trim text\n"
     ]
    }
   ],
   "source": [
    "print(text_operations(text, 'substitute', 'Trim', 'Substitute').strip())"
   ]
  },
  {
   "cell_type": "markdown",
   "id": "9dcce516-21f4-4622-9152-59b179759844",
   "metadata": {},
   "source": [
    "##  cut and return"
   ]
  },
  {
   "cell_type": "code",
   "execution_count": 32,
   "id": "465b3c09-224b-4122-82ad-a7839c96492e",
   "metadata": {},
   "outputs": [
    {
     "name": "stdout",
     "output_type": "stream",
     "text": [
      "rim t\n"
     ]
    }
   ],
   "source": [
    "print(text_operations(text, 'cut', 4, 9))"
   ]
  },
  {
   "cell_type": "markdown",
   "id": "646935cd-a862-4a76-a37f-f9130eb12775",
   "metadata": {},
   "source": [
    "## Join Text"
   ]
  },
  {
   "cell_type": "code",
   "execution_count": 44,
   "id": "493e39a3-b1b1-4aec-b402-ddda615be17a",
   "metadata": {},
   "outputs": [],
   "source": [
    "# Define some text variables\n",
    "first_name = \"Rosse\"\n",
    "last_name = \"Adam\"\n",
    "delimiter = \" \"  \n",
    "\n",
    "# Join the text with the delimiter\n",
    "full_name = first_name + delimiter + last_name\n",
    "\n",
    "\n"
   ]
  },
  {
   "cell_type": "code",
   "execution_count": 45,
   "id": "c3dc48f7-54e3-462e-b74e-0959763221f4",
   "metadata": {},
   "outputs": [
    {
     "name": "stdout",
     "output_type": "stream",
     "text": [
      "Rosse Adam\n"
     ]
    }
   ],
   "source": [
    "\n",
    "print(full_name)"
   ]
  },
  {
   "cell_type": "code",
   "execution_count": 51,
   "id": "4d151570-06a8-4573-affa-75aaab88a0ff",
   "metadata": {},
   "outputs": [],
   "source": [
    "# Define text variables\n",
    "first_name = \"Bob\"\n",
    "last_name = \"marley\"\n",
    "delimiter = \"-\"\n",
    "full_name = f\"{first_name}-{last_name}\""
   ]
  },
  {
   "cell_type": "code",
   "execution_count": 52,
   "id": "12160846-8e17-4647-b4fe-1aa5e9605850",
   "metadata": {},
   "outputs": [
    {
     "name": "stdout",
     "output_type": "stream",
     "text": [
      "Bob-marley\n"
     ]
    }
   ],
   "source": [
    "print(full_name)"
   ]
  },
  {
   "cell_type": "code",
   "execution_count": null,
   "id": "5d2ba6ea-5ef3-43df-af0b-1a9796404275",
   "metadata": {},
   "outputs": [],
   "source": []
  }
 ],
 "metadata": {
  "kernelspec": {
   "display_name": "Python 3 (ipykernel)",
   "language": "python",
   "name": "python3"
  },
  "language_info": {
   "codemirror_mode": {
    "name": "ipython",
    "version": 3
   },
   "file_extension": ".py",
   "mimetype": "text/x-python",
   "name": "python",
   "nbconvert_exporter": "python",
   "pygments_lexer": "ipython3",
   "version": "3.11.7"
  }
 },
 "nbformat": 4,
 "nbformat_minor": 5
}
