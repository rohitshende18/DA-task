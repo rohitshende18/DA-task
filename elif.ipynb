{
 "cells": [
  {
   "cell_type": "markdown",
   "id": "9f6a36d8-dee8-4b31-9be6-64218844da50",
   "metadata": {},
   "source": [
    "# set"
   ]
  },
  {
   "cell_type": "code",
   "execution_count": 27,
   "id": "653c56e4-8b25-4d78-9da4-7cb6809c139a",
   "metadata": {},
   "outputs": [
    {
     "data": {
      "text/plain": [
       "{1, 2, 3, 4, 5, 6, 7, 8, 9, 10}"
      ]
     },
     "execution_count": 27,
     "metadata": {},
     "output_type": "execute_result"
    }
   ],
   "source": [
    "set (range(1,11,1))"
   ]
  },
  {
   "cell_type": "code",
   "execution_count": 1,
   "id": "007dd80a-d842-4101-8b72-907191188de1",
   "metadata": {},
   "outputs": [],
   "source": [
    "# Create a set with colors\n",
    "colors = {\"red\", \"green\", \"blue\", \"blue\"}\n",
    "\n",
    "# duplicate are remove"
   ]
  },
  {
   "cell_type": "code",
   "execution_count": 2,
   "id": "6cd2509d-a1f9-4314-bacc-a870d8b8a5db",
   "metadata": {},
   "outputs": [
    {
     "name": "stdout",
     "output_type": "stream",
     "text": [
      "{'red', 'blue', 'green'}\n"
     ]
    }
   ],
   "source": [
    "print(colors)"
   ]
  },
  {
   "cell_type": "code",
   "execution_count": 3,
   "id": "5504f8f6-5d7b-48eb-9117-4ffe3325b2dc",
   "metadata": {},
   "outputs": [],
   "source": [
    "fruits = {\"banana\", \"orange\", \"watermelon\", \"chiku\"}"
   ]
  },
  {
   "cell_type": "code",
   "execution_count": 4,
   "id": "ba1a15d0-a70b-46ee-b216-278ff4295954",
   "metadata": {},
   "outputs": [
    {
     "name": "stdout",
     "output_type": "stream",
     "text": [
      "{'banana', 'watermelon', 'orange', 'chiku'}\n"
     ]
    }
   ],
   "source": [
    "print(fruits)"
   ]
  },
  {
   "cell_type": "code",
   "execution_count": 5,
   "id": "fb376191-d765-48a8-828f-c2ae30f4d546",
   "metadata": {},
   "outputs": [
    {
     "name": "stdout",
     "output_type": "stream",
     "text": [
      "Union: {'potato', 'chiku', 'banana', 'orange', 'cucumber', 'tomato', 'watermelon'}\n",
      "Intersection: set()\n",
      "Difference: {'chiku', 'banana', 'orange', 'watermelon'}\n"
     ]
    }
   ],
   "source": [
    "# Create another set\n",
    "vegetables = {\"potato\", \"tomato\", \"cucumber\"}\n",
    "\n",
    "# Union\n",
    "all_items = fruits | vegetables\n",
    "print(\"Union:\", all_items)\n",
    "\n",
    "# Intersection\n",
    "common_items = fruits & vegetables\n",
    "print(\"Intersection:\", common_items)\n",
    "\n",
    "# Difference\n",
    "unique_fruits = fruits - vegetables\n",
    "print(\"Difference:\", unique_fruits)\n"
   ]
  },
  {
   "cell_type": "code",
   "execution_count": null,
   "id": "e74e6cf9-147a-4481-bd36-c678836141b5",
   "metadata": {},
   "outputs": [],
   "source": []
  }
 ],
 "metadata": {
  "kernelspec": {
   "display_name": "Python 3 (ipykernel)",
   "language": "python",
   "name": "python3"
  },
  "language_info": {
   "codemirror_mode": {
    "name": "ipython",
    "version": 3
   },
   "file_extension": ".py",
   "mimetype": "text/x-python",
   "name": "python",
   "nbconvert_exporter": "python",
   "pygments_lexer": "ipython3",
   "version": "3.11.7"
  }
 },
 "nbformat": 4,
 "nbformat_minor": 5
}
