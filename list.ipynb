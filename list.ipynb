{
 "cells": [
  {
   "cell_type": "markdown",
   "id": "081adb99-ca9b-4b53-bc54-104d8d3b3491",
   "metadata": {},
   "source": [
    "# list"
   ]
  },
  {
   "cell_type": "code",
   "execution_count": 3,
   "id": "6b70fcc4-1991-41ff-9d74-ffb4570d86f4",
   "metadata": {},
   "outputs": [
    {
     "data": {
      "text/plain": [
       "[3, 6, 9, 12, 15, 18, 21, 24, 27, 30]"
      ]
     },
     "execution_count": 3,
     "metadata": {},
     "output_type": "execute_result"
    }
   ],
   "source": [
    "list(range(3,31,3))"
   ]
  },
  {
   "cell_type": "code",
   "execution_count": 2,
   "id": "6d945af8-e07b-4cf2-9de9-4cdd5feb7149",
   "metadata": {},
   "outputs": [],
   "source": [
    "list1 = [2, 4, 6, 8, 10, 12, 14, 16, 18, 20]"
   ]
  },
  {
   "cell_type": "code",
   "execution_count": 4,
   "id": "e1f07def-3c35-4c7b-96a1-28a07fb2de0a",
   "metadata": {},
   "outputs": [],
   "source": [
    "list2 = [3, 6, 9, 12, 15, 18, 21, 24, 27, 30]"
   ]
  },
  {
   "cell_type": "code",
   "execution_count": 5,
   "id": "bc968d51-18e1-42d4-b6c7-482fb80e0f6a",
   "metadata": {},
   "outputs": [],
   "source": [
    "list3 = [list1 + list2 ]"
   ]
  },
  {
   "cell_type": "code",
   "execution_count": 6,
   "id": "3a7757c3-d331-4fea-a389-7720aa139d22",
   "metadata": {},
   "outputs": [
    {
     "name": "stdout",
     "output_type": "stream",
     "text": [
      "[[2, 4, 6, 8, 10, 12, 14, 16, 18, 20, 3, 6, 9, 12, 15, 18, 21, 24, 27, 30]]\n"
     ]
    }
   ],
   "source": [
    "print(list3)"
   ]
  },
  {
   "cell_type": "code",
   "execution_count": 10,
   "id": "7eeaa8c6-e351-4317-bcdd-7ee466a71579",
   "metadata": {},
   "outputs": [
    {
     "data": {
      "text/plain": [
       "[7, 14, 21, 28, 35, 42, 49, 56, 63, 70]"
      ]
     },
     "execution_count": 10,
     "metadata": {},
     "output_type": "execute_result"
    }
   ],
   "source": [
    "list (range(7,71,7))"
   ]
  },
  {
   "cell_type": "code",
   "execution_count": 9,
   "id": "10aa29c3-215d-4231-92f2-4a72ae88036b",
   "metadata": {},
   "outputs": [],
   "source": [
    "list1 = [5, 10, 15, 20, 25, 30, 35, 40, 45, 50]"
   ]
  },
  {
   "cell_type": "code",
   "execution_count": 12,
   "id": "f9f2437c-3968-4a40-ad92-d245e8f714d1",
   "metadata": {},
   "outputs": [],
   "source": [
    "list2 = [7, 14, 21, 28, 35, 42, 49, 56, 63, 70]"
   ]
  },
  {
   "cell_type": "code",
   "execution_count": 17,
   "id": "961195cb-2d49-465f-b471-c52701d7ab49",
   "metadata": {},
   "outputs": [
    {
     "ename": "TypeError",
     "evalue": "unsupported operand type(s) for -: 'list' and 'list'",
     "output_type": "error",
     "traceback": [
      "\u001b[1;31m---------------------------------------------------------------------------\u001b[0m",
      "\u001b[1;31mTypeError\u001b[0m                                 Traceback (most recent call last)",
      "Cell \u001b[1;32mIn[17], line 1\u001b[0m\n\u001b[1;32m----> 1\u001b[0m list3 \u001b[38;5;241m=\u001b[39m [list2 \u001b[38;5;241m-\u001b[39m list1 ]\n",
      "\u001b[1;31mTypeError\u001b[0m: unsupported operand type(s) for -: 'list' and 'list'"
     ]
    }
   ],
   "source": [
    "list3 = [list2 - list1 ]"
   ]
  },
  {
   "cell_type": "code",
   "execution_count": 22,
   "id": "b71ea24b-3918-467f-b791-2d3cb930bce7",
   "metadata": {},
   "outputs": [],
   "source": [
    "x = tuple(range(1,11,1))"
   ]
  },
  {
   "cell_type": "code",
   "execution_count": 23,
   "id": "cdd2033f-e6d3-42f9-918e-0564bc2fce86",
   "metadata": {},
   "outputs": [],
   "source": [
    "x = list(x)"
   ]
  },
  {
   "cell_type": "code",
   "execution_count": 24,
   "id": "56d4e1a0-e7c7-4481-9ff5-edb0227c5037",
   "metadata": {},
   "outputs": [
    {
     "name": "stdout",
     "output_type": "stream",
     "text": [
      "[1, 2, 3, 4, 5, 6, 7, 8, 9, 10]\n"
     ]
    }
   ],
   "source": [
    "print(x)"
   ]
  },
  {
   "cell_type": "code",
   "execution_count": 25,
   "id": "625e3db5-6d47-471a-90dc-f3fb055bbfe6",
   "metadata": {},
   "outputs": [],
   "source": [
    "y = tuple(x)"
   ]
  },
  {
   "cell_type": "code",
   "execution_count": 26,
   "id": "c480999e-f82c-48e7-8200-412e62222d0e",
   "metadata": {},
   "outputs": [
    {
     "name": "stdout",
     "output_type": "stream",
     "text": [
      "(1, 2, 3, 4, 5, 6, 7, 8, 9, 10)\n"
     ]
    }
   ],
   "source": [
    "print(y)"
   ]
  },
  {
   "cell_type": "code",
   "execution_count": 27,
   "id": "653c56e4-8b25-4d78-9da4-7cb6809c139a",
   "metadata": {},
   "outputs": [
    {
     "data": {
      "text/plain": [
       "{1, 2, 3, 4, 5, 6, 7, 8, 9, 10}"
      ]
     },
     "execution_count": 27,
     "metadata": {},
     "output_type": "execute_result"
    }
   ],
   "source": [
    "set (range(1,11,1))"
   ]
  },
  {
   "cell_type": "code",
   "execution_count": null,
   "id": "007dd80a-d842-4101-8b72-907191188de1",
   "metadata": {},
   "outputs": [],
   "source": []
  }
 ],
 "metadata": {
  "kernelspec": {
   "display_name": "Python 3 (ipykernel)",
   "language": "python",
   "name": "python3"
  },
  "language_info": {
   "codemirror_mode": {
    "name": "ipython",
    "version": 3
   },
   "file_extension": ".py",
   "mimetype": "text/x-python",
   "name": "python",
   "nbconvert_exporter": "python",
   "pygments_lexer": "ipython3",
   "version": "3.11.7"
  }
 },
 "nbformat": 4,
 "nbformat_minor": 5
}
