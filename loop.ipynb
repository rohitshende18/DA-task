{
 "cells": [
  {
   "cell_type": "code",
   "execution_count": null,
   "metadata": {},
   "outputs": [],
   "source": [
    "# While loop"
   ]
  },
  {
   "cell_type": "code",
   "execution_count": 10,
   "metadata": {},
   "outputs": [],
   "source": [
    "car_list = [\n",
    "    {'Car_name': 'Creata', 'Model' : 'top varient' , 'Year' : '2021'},\n",
    "    {'Car_name': 'Baleno', 'Model' : 'base varient' , 'Year' : '2023'},\n",
    "    {'Car_name' : 'Breeza', 'Model' : 'middle' , 'Year' : '2022'},\n",
    "    {'Car_name' : 'Dzire', 'Model' : 'top varient' , 'Year' : ' 2024'},\n",
    "]"
   ]
  },
  {
   "cell_type": "code",
   "execution_count": 8,
   "metadata": {},
   "outputs": [
    {
     "data": {
      "text/plain": [
       "[{'Car_name': 'Creata', 'Model': 'top varient', 'Year': '2021'},\n",
       " {'Car_name': 'Baleno', 'Model': 'base varient', 'Year': '2023'},\n",
       " {'Car_name': 'Breeza', 'Model': 'middle', 'Year': '2022'},\n",
       " {'Car_name': 'Dzire', 'Model': 'top varient', 'Year': ' 2024'}]"
      ]
     },
     "execution_count": 8,
     "metadata": {},
     "output_type": "execute_result"
    }
   ],
   "source": [
    "car_list"
   ]
  },
  {
   "cell_type": "code",
   "execution_count": 9,
   "metadata": {},
   "outputs": [
    {
     "name": "stdout",
     "output_type": "stream",
     "text": [
      "Creata belongs to top varient Model\n",
      "Baleno belongs to base varient Model\n",
      "Breeza belongs to middle Model\n",
      "Dzire belongs to top varient Model\n"
     ]
    }
   ],
   "source": [
    "i = 0\n",
    "while i < len(car_list):\n",
    "    Car_name = car_list[i]['Car_name']\n",
    "    Model = car_list[i]['Model']\n",
    "    print(f'{Car_name} belongs to {Model} Model')\n",
    "    i = i + 1"
   ]
  },
  {
   "cell_type": "code",
   "execution_count": null,
   "metadata": {},
   "outputs": [],
   "source": [
    "# For loop"
   ]
  },
  {
   "cell_type": "code",
   "execution_count": 14,
   "metadata": {},
   "outputs": [
    {
     "name": "stdout",
     "output_type": "stream",
     "text": [
      "top varient is car name Creata\n",
      "base varient is car name Baleno\n",
      "middle is car name Breeza\n",
      "top varient is car name Dzire\n"
     ]
    }
   ],
   "source": [
    "for values in car_list:\n",
    "    Car_name = values['Car_name']\n",
    "    Model = values['Model']\n",
    "    Year = values['Year']\n",
    "    \n",
    "    print(f'{Model} is car name {Car_name}')"
   ]
  },
  {
   "cell_type": "code",
   "execution_count": null,
   "metadata": {},
   "outputs": [],
   "source": [
    "# Map function"
   ]
  },
  {
   "cell_type": "code",
   "execution_count": 15,
   "metadata": {},
   "outputs": [],
   "source": [
    "Car_name_and_its_Engine = {\n",
    "    'Creata'  : 'petrol',\n",
    "     'Baleno' : ' petrol',\n",
    "     'Breeza' : 'Disel',\n",
    "     'Dzire' : 'Electric'\n",
    "\n",
    "}"
   ]
  },
  {
   "cell_type": "code",
   "execution_count": 16,
   "metadata": {},
   "outputs": [],
   "source": [
    "def add_Engine(Engine):\n",
    "    Car_name = Engine['Car_name']\n",
    "    if Car_name is Car_name_and_its_Engine:\n",
    "        Engine['Engine'] = Car_name_and_its_Engine[Car_name]\n",
    "\n",
    "    return Engine"
   ]
  },
  {
   "cell_type": "code",
   "execution_count": 17,
   "metadata": {},
   "outputs": [
    {
     "name": "stdout",
     "output_type": "stream",
     "text": [
      "[{'Car_name': 'Creata', 'Model': 'top varient', 'Year': '2021'}, {'Car_name': 'Baleno', 'Model': 'base varient', 'Year': '2023'}, {'Car_name': 'Breeza', 'Model': 'middle', 'Year': '2022'}, {'Car_name': 'Dzire', 'Model': 'top varient', 'Year': ' 2024'}]\n"
     ]
    }
   ],
   "source": [
    "C_list = list(map(add_Engine, car_list))\n",
    "\n",
    "print(C_list)"
   ]
  },
  {
   "cell_type": "code",
   "execution_count": 18,
   "metadata": {},
   "outputs": [
    {
     "data": {
      "text/plain": [
       "[{'Car_name': 'Creata', 'Model': 'top varient', 'Year': '2021'},\n",
       " {'Car_name': 'Baleno', 'Model': 'base varient', 'Year': '2023'},\n",
       " {'Car_name': 'Breeza', 'Model': 'middle', 'Year': '2022'},\n",
       " {'Car_name': 'Dzire', 'Model': 'top varient', 'Year': ' 2024'}]"
      ]
     },
     "execution_count": 18,
     "metadata": {},
     "output_type": "execute_result"
    }
   ],
   "source": [
    "C_list"
   ]
  },
  {
   "cell_type": "code",
   "execution_count": 28,
   "metadata": {},
   "outputs": [
    {
     "ename": "KeyError",
     "evalue": "'Car_name_and_its_Engine'",
     "output_type": "error",
     "traceback": [
      "\u001b[1;31m---------------------------------------------------------------------------\u001b[0m",
      "\u001b[1;31mKeyError\u001b[0m                                  Traceback (most recent call last)",
      "Cell \u001b[1;32mIn[28], line 1\u001b[0m\n\u001b[1;32m----> 1\u001b[0m filtered_list \u001b[38;5;241m=\u001b[39m \u001b[38;5;28mlist\u001b[39m(\u001b[38;5;28mfilter\u001b[39m(\u001b[38;5;28;01mlambda\u001b[39;00m x: x[\u001b[38;5;124m'\u001b[39m\u001b[38;5;124mCar_name_and_its_Engine\u001b[39m\u001b[38;5;124m'\u001b[39m] \u001b[38;5;241m==\u001b[39m \u001b[38;5;124m'\u001b[39m\u001b[38;5;124mpetrol\u001b[39m\u001b[38;5;124m'\u001b[39m, C_list))\n\u001b[0;32m      3\u001b[0m \u001b[38;5;28mprint\u001b[39m(filtered_list)\n",
      "Cell \u001b[1;32mIn[28], line 1\u001b[0m, in \u001b[0;36m<lambda>\u001b[1;34m(x)\u001b[0m\n\u001b[1;32m----> 1\u001b[0m filtered_list \u001b[38;5;241m=\u001b[39m \u001b[38;5;28mlist\u001b[39m(\u001b[38;5;28mfilter\u001b[39m(\u001b[38;5;28;01mlambda\u001b[39;00m x: x[\u001b[38;5;124m'\u001b[39m\u001b[38;5;124mCar_name_and_its_Engine\u001b[39m\u001b[38;5;124m'\u001b[39m] \u001b[38;5;241m==\u001b[39m \u001b[38;5;124m'\u001b[39m\u001b[38;5;124mpetrol\u001b[39m\u001b[38;5;124m'\u001b[39m, C_list))\n\u001b[0;32m      3\u001b[0m \u001b[38;5;28mprint\u001b[39m(filtered_list)\n",
      "\u001b[1;31mKeyError\u001b[0m: 'Car_name_and_its_Engine'"
     ]
    }
   ],
   "source": [
    "filtered_list = list(filter(lambda x: x['Car_name_and_its_Engine'] == 'petrol', C_list))\n",
    "\n",
    "print(filtered_list)"
   ]
  },
  {
   "cell_type": "code",
   "execution_count": null,
   "metadata": {},
   "outputs": [],
   "source": []
  }
 ],
 "metadata": {
  "kernelspec": {
   "display_name": "base",
   "language": "python",
   "name": "python3"
  },
  "language_info": {
   "codemirror_mode": {
    "name": "ipython",
    "version": 3
   },
   "file_extension": ".py",
   "mimetype": "text/x-python",
   "name": "python",
   "nbconvert_exporter": "python",
   "pygments_lexer": "ipython3",
   "version": "3.11.7"
  }
 },
 "nbformat": 4,
 "nbformat_minor": 2
}
