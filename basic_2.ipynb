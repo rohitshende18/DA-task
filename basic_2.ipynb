{
 "cells": [
  {
   "cell_type": "markdown",
   "id": "1a75f824-4ee1-4dc5-a7f8-a1873a8155b5",
   "metadata": {
    "id": "1a75f824-4ee1-4dc5-a7f8-a1873a8155b5"
   },
   "source": [
    "# logical operators"
   ]
  },
  {
   "cell_type": "code",
   "execution_count": null,
   "id": "89422743-5c37-47d2-a0cb-ecc2ef0e2397",
   "metadata": {
    "id": "89422743-5c37-47d2-a0cb-ecc2ef0e2397"
   },
   "outputs": [],
   "source": [
    "veg1 = 23\n",
    "veg2 = 34\n",
    "veg3 = 46\n",
    "veg4 = 34\n",
    "\n"
   ]
  },
  {
   "cell_type": "code",
   "execution_count": null,
   "id": "ad0ea408-5f31-46ec-8e7e-ab3f3282a1ef",
   "metadata": {
    "id": "ad0ea408-5f31-46ec-8e7e-ab3f3282a1ef",
    "outputId": "5864b176-841c-4c66-ee53-9bbda3f46d21"
   },
   "outputs": [
    {
     "name": "stdout",
     "output_type": "stream",
     "text": [
      "23 34 46 34\n"
     ]
    }
   ],
   "source": [
    "print(veg1,veg2,veg3,veg4)"
   ]
  },
  {
   "cell_type": "code",
   "execution_count": null,
   "id": "6ea29d4a-45d6-4022-9570-f54c63f811ca",
   "metadata": {
    "id": "6ea29d4a-45d6-4022-9570-f54c63f811ca",
    "outputId": "dafb70cc-8e6b-42c8-bc20-b6968635a859"
   },
   "outputs": [
    {
     "data": {
      "text/plain": [
       "False"
      ]
     },
     "execution_count": 32,
     "metadata": {},
     "output_type": "execute_result"
    }
   ],
   "source": [
    "# compare or equal to\n",
    "\n",
    "veg1 == veg2\n",
    "veg1 == veg3\n",
    "veg1 == veg4\n",
    "veg2 == veg3\n",
    "veg2 == veg4\n",
    "veg3 == veg4\n"
   ]
  },
  {
   "cell_type": "code",
   "execution_count": null,
   "id": "f1a16de8-5123-4288-89df-fcc73e228abd",
   "metadata": {
    "id": "f1a16de8-5123-4288-89df-fcc73e228abd",
    "outputId": "f3aca9ba-93a8-4ad5-ee6d-bf3e9e1b5728"
   },
   "outputs": [
    {
     "data": {
      "text/plain": [
       "False"
      ]
     },
     "execution_count": 33,
     "metadata": {},
     "output_type": "execute_result"
    }
   ],
   "source": [
    "veg1 > veg2"
   ]
  },
  {
   "cell_type": "code",
   "execution_count": null,
   "id": "62837f50-aaa9-48d4-898b-40dba32578b6",
   "metadata": {
    "id": "62837f50-aaa9-48d4-898b-40dba32578b6",
    "outputId": "0b5cecec-a4ba-4c09-fd96-b8fec2de85ea"
   },
   "outputs": [
    {
     "data": {
      "text/plain": [
       "True"
      ]
     },
     "execution_count": 34,
     "metadata": {},
     "output_type": "execute_result"
    }
   ],
   "source": [
    "veg4 == veg2"
   ]
  },
  {
   "cell_type": "code",
   "execution_count": null,
   "id": "5da9be47-54ed-45e1-bbf4-cd8451ceb65f",
   "metadata": {
    "id": "5da9be47-54ed-45e1-bbf4-cd8451ceb65f",
    "outputId": "0547c182-1bbc-4b98-8e8b-e70e2255f15b"
   },
   "outputs": [
    {
     "data": {
      "text/plain": [
       "False"
      ]
     },
     "execution_count": 35,
     "metadata": {},
     "output_type": "execute_result"
    }
   ],
   "source": [
    "veg4 > veg2"
   ]
  },
  {
   "cell_type": "code",
   "execution_count": null,
   "id": "6aacc86f-2934-4ba6-9f03-f91190125d50",
   "metadata": {
    "id": "6aacc86f-2934-4ba6-9f03-f91190125d50",
    "outputId": "13ad254c-f76d-45b2-cce1-61782042823d"
   },
   "outputs": [
    {
     "data": {
      "text/plain": [
       "False"
      ]
     },
     "execution_count": 37,
     "metadata": {},
     "output_type": "execute_result"
    }
   ],
   "source": [
    "veg2 > veg4"
   ]
  },
  {
   "cell_type": "code",
   "execution_count": null,
   "id": "6c734867-fc73-47fb-b581-16efa47bc57b",
   "metadata": {
    "id": "6c734867-fc73-47fb-b581-16efa47bc57b",
    "outputId": "37c2b42a-e4c8-45ad-aad0-63851809bd4d"
   },
   "outputs": [
    {
     "data": {
      "text/plain": [
       "False"
      ]
     },
     "execution_count": 38,
     "metadata": {},
     "output_type": "execute_result"
    }
   ],
   "source": [
    "veg2 != 34"
   ]
  },
  {
   "cell_type": "code",
   "execution_count": null,
   "id": "aa231825-c606-4c67-9f2f-4ec52bdb8370",
   "metadata": {
    "id": "aa231825-c606-4c67-9f2f-4ec52bdb8370",
    "outputId": "80d381bd-7b14-461b-edbc-bf65cb0377ce"
   },
   "outputs": [
    {
     "data": {
      "text/plain": [
       "True"
      ]
     },
     "execution_count": 39,
     "metadata": {},
     "output_type": "execute_result"
    }
   ],
   "source": [
    "veg2 != 45"
   ]
  },
  {
   "cell_type": "code",
   "execution_count": null,
   "id": "7e5c99a9-c9ad-41eb-943d-ff1012bef6a8",
   "metadata": {
    "id": "7e5c99a9-c9ad-41eb-943d-ff1012bef6a8"
   },
   "outputs": [],
   "source": []
  },
  {
   "cell_type": "markdown",
   "id": "d34fbfc4-4c30-40e8-abec-c34e8c317a44",
   "metadata": {
    "id": "d34fbfc4-4c30-40e8-abec-c34e8c317a44"
   },
   "source": [
    "# String"
   ]
  },
  {
   "cell_type": "code",
   "execution_count": null,
   "id": "0c646fe4-fd6e-4160-90d8-cdf2bf617b2e",
   "metadata": {
    "id": "0c646fe4-fd6e-4160-90d8-cdf2bf617b2e",
    "outputId": "5267533f-cfc7-426d-bf53-c6fea54a2003"
   },
   "outputs": [
    {
     "data": {
      "text/plain": [
       "'this is a string'"
      ]
     },
     "execution_count": 40,
     "metadata": {},
     "output_type": "execute_result"
    }
   ],
   "source": [
    "'this is a string'"
   ]
  },
  {
   "cell_type": "code",
   "execution_count": null,
   "id": "ed4505ee-53f3-4ca8-9606-70bf5ba6e7ad",
   "metadata": {
    "id": "ed4505ee-53f3-4ca8-9606-70bf5ba6e7ad",
    "outputId": "a35acbeb-4301-4a4e-f84f-ebd096ed0e71"
   },
   "outputs": [
    {
     "data": {
      "text/plain": [
       "'this is a double quoutes string'"
      ]
     },
     "execution_count": 41,
     "metadata": {},
     "output_type": "execute_result"
    }
   ],
   "source": [
    "\"this is a double quoutes string\""
   ]
  },
  {
   "cell_type": "code",
   "execution_count": null,
   "id": "c9fefdc9-52d2-48f7-bf44-8fd1b377716e",
   "metadata": {
    "id": "c9fefdc9-52d2-48f7-bf44-8fd1b377716e",
    "outputId": "13626132-db31-4079-ab79-19b045423f39"
   },
   "outputs": [
    {
     "data": {
      "text/plain": [
       "\"this are new value's\""
      ]
     },
     "execution_count": 45,
     "metadata": {},
     "output_type": "execute_result"
    }
   ],
   "source": [
    "\"this are new value's\""
   ]
  },
  {
   "cell_type": "code",
   "execution_count": 2,
   "id": "555b78be-6b2b-4049-a3c3-ea581f79cd1a",
   "metadata": {
    "id": "555b78be-6b2b-4049-a3c3-ea581f79cd1a"
   },
   "outputs": [],
   "source": [
    "veg1Name = \"bringal\"\n",
    "veg2Name = \"lady finger\"\n",
    "veg3Name = 'tomato'\n",
    "veg4Name = 'cabage'"
   ]
  },
  {
   "cell_type": "code",
   "execution_count": 3,
   "id": "518cffb3-8721-4cb9-855f-a89d577436d7",
   "metadata": {
    "id": "518cffb3-8721-4cb9-855f-a89d577436d7",
    "outputId": "8fee9a05-9a23-4d12-ea51-a88af0adc157"
   },
   "outputs": [
    {
     "name": "stdout",
     "output_type": "stream",
     "text": [
      "bringal\n",
      "lady finger\n",
      "tomato\n",
      "cabage\n"
     ]
    }
   ],
   "source": [
    "print(veg1Name)\n",
    "print(veg2Name)\n",
    "print(veg3Name)\n",
    "print(veg4Name)"
   ]
  },
  {
   "cell_type": "code",
   "execution_count": null,
   "id": "545eff69-0ee3-4652-aaa4-acd7ddc58c9d",
   "metadata": {
    "id": "545eff69-0ee3-4652-aaa4-acd7ddc58c9d",
    "outputId": "de915631-5715-477c-effb-3cd6abd208db"
   },
   "outputs": [
    {
     "name": "stdout",
     "output_type": "stream",
     "text": [
      "veg1Name = tomoto\n",
      "veg2Name = potato\n",
      "veg3Name = cabage, veg4name = chilly\n"
     ]
    }
   ],
   "source": [
    "print(\"veg1Name = {}\".format(veg1Name))\n",
    "\n",
    "print('veg2Name = {}'.format(veg2Name))\n",
    "\n",
    "print('veg3Name = {}, veg4name = {}'.format(veg3Name, veg4Name))"
   ]
  },
  {
   "cell_type": "code",
   "execution_count": null,
   "id": "235dd1ec-c467-41e7-aa01-4c7d23452305",
   "metadata": {
    "id": "235dd1ec-c467-41e7-aa01-4c7d23452305",
    "outputId": "27dea55b-1fea-4ab7-80c2-5becda22bd20"
   },
   "outputs": [
    {
     "name": "stdout",
     "output_type": "stream",
     "text": [
      "veg3Name = cabage, veg4name = chilly\n"
     ]
    }
   ],
   "source": [
    "print(f\"veg3Name = {veg3Name}, veg4name = {veg4Name}\")"
   ]
  },
  {
   "cell_type": "code",
   "execution_count": null,
   "id": "6be020fe-b0ae-40ff-92cc-bb27129d46ce",
   "metadata": {
    "id": "6be020fe-b0ae-40ff-92cc-bb27129d46ce"
   },
   "outputs": [],
   "source": [
    "# total amount of purchase = value"
   ]
  }
 ],
 "metadata": {
  "colab": {
   "provenance": []
  },
  "kernelspec": {
   "display_name": "Python 3 (ipykernel)",
   "language": "python",
   "name": "python3"
  },
  "language_info": {
   "codemirror_mode": {
    "name": "ipython",
    "version": 3
   },
   "file_extension": ".py",
   "mimetype": "text/x-python",
   "name": "python",
   "nbconvert_exporter": "python",
   "pygments_lexer": "ipython3",
   "version": "3.11.7"
  }
 },
 "nbformat": 4,
 "nbformat_minor": 5
}
