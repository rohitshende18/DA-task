{
 "cells": [
  {
   "cell_type": "markdown",
   "id": "ec146c7b-4335-4b2a-acb4-3bd43e540ede",
   "metadata": {},
   "source": [
    "## Write function for if number is even then return minimum of them, if number is odd then return maximum."
   ]
  },
  {
   "cell_type": "code",
   "execution_count": 69,
   "id": "f460be62-e537-47b8-bfb7-8cd4ac8c89bb",
   "metadata": {},
   "outputs": [],
   "source": [
    "def lesser_of_two_odd(a,b):\n",
    "    if a%2 == 0 and b%2 == 0:\n",
    "        return min(a,b)\n",
    "    else:\n",
    "        return max(a,b)"
   ]
  },
  {
   "cell_type": "code",
   "execution_count": 71,
   "id": "4f6cc3f1-b5da-41f4-89e0-5c1ecbce88ad",
   "metadata": {},
   "outputs": [
    {
     "data": {
      "text/plain": [
       "17"
      ]
     },
     "execution_count": 71,
     "metadata": {},
     "output_type": "execute_result"
    }
   ],
   "source": [
    "lesser_of_two_odd(11,17)"
   ]
  },
  {
   "cell_type": "code",
   "execution_count": 73,
   "id": "b4d72266-06b4-414c-8575-975fba5fa9a2",
   "metadata": {},
   "outputs": [],
   "source": [
    "def lesser_of_two_evens(x,y):\n",
    "    if x%5 == 0 and y%7 == 0:\n",
    "        return min(x,y)\n",
    "    else:\n",
    "        return max(x,y)"
   ]
  },
  {
   "cell_type": "code",
   "execution_count": 77,
   "id": "5ba95a9f-59b8-48a8-af50-0d58a0e05444",
   "metadata": {},
   "outputs": [
    {
     "data": {
      "text/plain": [
       "5"
      ]
     },
     "execution_count": 77,
     "metadata": {},
     "output_type": "execute_result"
    }
   ],
   "source": [
    "lesser_of_two_evens(5,7)"
   ]
  },
  {
   "cell_type": "markdown",
   "id": "b042be5e-8423-47d4-970c-a123fc4957f2",
   "metadata": {},
   "source": [
    "## Write function for the creating dictionary of students details."
   ]
  },
  {
   "cell_type": "code",
   "execution_count": 80,
   "id": "decb8e73-6544-4c59-b107-acf9d24bc850",
   "metadata": {},
   "outputs": [],
   "source": [
    "def student_info(name, batch, marks):\n",
    "    my_dict = {\"Name\": name, \"batch\": batch, \"Marks\": marks}\n",
    "    return my_dict"
   ]
  },
  {
   "cell_type": "code",
   "execution_count": 84,
   "id": "0605d261-4a46-44ea-8c30-469f6d33f487",
   "metadata": {},
   "outputs": [
    {
     "ename": "NameError",
     "evalue": "name 'stude1' is not defined",
     "output_type": "error",
     "traceback": [
      "\u001b[1;31m---------------------------------------------------------------------------\u001b[0m",
      "\u001b[1;31mNameError\u001b[0m                                 Traceback (most recent call last)",
      "Cell \u001b[1;32mIn[84], line 3\u001b[0m\n\u001b[0;32m      1\u001b[0m stud1 \u001b[38;5;241m=\u001b[39m student_info(\u001b[38;5;124m'\u001b[39m\u001b[38;5;124mrama\u001b[39m\u001b[38;5;124m'\u001b[39m, \u001b[38;5;124m'\u001b[39m\u001b[38;5;124m1st\u001b[39m\u001b[38;5;124m'\u001b[39m, {\u001b[38;5;124m'\u001b[39m\u001b[38;5;124msub1\u001b[39m\u001b[38;5;124m'\u001b[39m:\u001b[38;5;241m87\u001b[39m, \u001b[38;5;124m'\u001b[39m\u001b[38;5;124msub2\u001b[39m\u001b[38;5;124m'\u001b[39m:\u001b[38;5;241m65\u001b[39m, \u001b[38;5;124m'\u001b[39m\u001b[38;5;124msub3\u001b[39m\u001b[38;5;124m'\u001b[39m:\u001b[38;5;241m48\u001b[39m, \u001b[38;5;124m'\u001b[39m\u001b[38;5;124msub4\u001b[39m\u001b[38;5;124m'\u001b[39m:\u001b[38;5;241m54\u001b[39m,  \u001b[38;5;124m'\u001b[39m\u001b[38;5;124msub5\u001b[39m\u001b[38;5;124m'\u001b[39m:\u001b[38;5;241m75\u001b[39m})\n\u001b[1;32m----> 3\u001b[0m x \u001b[38;5;241m=\u001b[39m stude1\n",
      "\u001b[1;31mNameError\u001b[0m: name 'stude1' is not defined"
     ]
    }
   ],
   "source": [
    "stud1 = student_info('rama', '1st', {'sub1':87, 'sub2':65, 'sub3':48, 'sub4':54,  'sub5':75})\n",
    "\n",
    "x = stude1"
   ]
  },
  {
   "cell_type": "code",
   "execution_count": 81,
   "id": "b2bdb800-6b4b-4e9c-9e7a-7ea6673122bd",
   "metadata": {},
   "outputs": [
    {
     "ename": "NameError",
     "evalue": "name 'stud1' is not defined",
     "output_type": "error",
     "traceback": [
      "\u001b[1;31m---------------------------------------------------------------------------\u001b[0m",
      "\u001b[1;31mNameError\u001b[0m                                 Traceback (most recent call last)",
      "Cell \u001b[1;32mIn[81], line 1\u001b[0m\n\u001b[1;32m----> 1\u001b[0m \u001b[38;5;28mprint\u001b[39m(stud1)\n",
      "\u001b[1;31mNameError\u001b[0m: name 'stud1' is not defined"
     ]
    }
   ],
   "source": [
    "print(stud1)"
   ]
  },
  {
   "cell_type": "code",
   "execution_count": 85,
   "id": "dc803514-5ca7-4bca-9d72-05ef83625c61",
   "metadata": {},
   "outputs": [
    {
     "name": "stdout",
     "output_type": "stream",
     "text": [
      "{'Name': 'rama', 'batch': '1st', 'Marks': {'sub1': 87, 'sub2': 65, 'sub3': 48, 'sub4': 54, 'sub5': 75}}\n"
     ]
    }
   ],
   "source": [
    "def student_info(name, grade, marks):\n",
    "  \"\"\"\n",
    "  Creates a student record with name, grade, and marks in a dictionary.\n",
    "\n",
    "  Args:\n",
    "      name: Student's name \n",
    "      grade: Student's grade level \n",
    "      marks: Dictionary containing marks for different subjects \n",
    "\n",
    "  Returns:\n",
    "      A dictionary representing the student record.\n",
    "  \"\"\"\n",
    "  return {\n",
    "      \"name\": name,\n",
    "      \"grade\": grade,\n",
    "      \"marks\": marks\n",
    "  }\n",
    "\n"
   ]
  },
  {
   "cell_type": "code",
   "execution_count": 86,
   "id": "0fabc2d9-4c1e-4aa7-a013-bf7027a6ecec",
   "metadata": {},
   "outputs": [
    {
     "name": "stdout",
     "output_type": "stream",
     "text": [
      "{'Name': 'rama', 'batch': '1st', 'Marks': {'sub1': 87, 'sub2': 65, 'sub3': 48, 'sub4': 54, 'sub5': 75}}\n"
     ]
    }
   ],
   "source": [
    "print(stud1)"
   ]
  },
  {
   "cell_type": "code",
   "execution_count": null,
   "id": "a65ab95a-07ff-477c-8253-e7fd4ed095ae",
   "metadata": {},
   "outputs": [],
   "source": []
  }
 ],
 "metadata": {
  "kernelspec": {
   "display_name": "Python 3 (ipykernel)",
   "language": "python",
   "name": "python3"
  },
  "language_info": {
   "codemirror_mode": {
    "name": "ipython",
    "version": 3
   },
   "file_extension": ".py",
   "mimetype": "text/x-python",
   "name": "python",
   "nbconvert_exporter": "python",
   "pygments_lexer": "ipython3",
   "version": "3.11.7"
  }
 },
 "nbformat": 4,
 "nbformat_minor": 5
}
