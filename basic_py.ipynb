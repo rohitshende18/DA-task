{
 "cells": [
  {
   "cell_type": "markdown",
   "id": "3902ae04-ad94-4af5-8b8c-5b5e11d2c5c1",
   "metadata": {},
   "source": [
    "# INDEXING"
   ]
  },
  {
   "cell_type": "code",
   "execution_count": 15,
   "id": "a8eee6d6-dd26-4c64-8870-45b5b0de94bc",
   "metadata": {},
   "outputs": [
    {
     "data": {
      "text/plain": [
       "(12, 44, 51, 65, 31)"
      ]
     },
     "execution_count": 15,
     "metadata": {},
     "output_type": "execute_result"
    }
   ],
   "source": [
    "my_tuple = (12, 44, 51, 65, 31)\n",
    "my_tuple"
   ]
  },
  {
   "cell_type": "code",
   "execution_count": 16,
   "id": "dc370bf1-09b5-481f-ab4b-2e3ad9c539f3",
   "metadata": {},
   "outputs": [
    {
     "name": "stdout",
     "output_type": "stream",
     "text": [
      "12\n"
     ]
    }
   ],
   "source": [
    "print(my_tuple[0])"
   ]
  },
  {
   "cell_type": "markdown",
   "id": "94f78af1-25b8-4fee-90b0-d8413c871fb1",
   "metadata": {},
   "source": [
    "# slicing"
   ]
  },
  {
   "cell_type": "code",
   "execution_count": 17,
   "id": "7fd5351a-e730-4571-ab9f-470a186659f7",
   "metadata": {},
   "outputs": [
    {
     "data": {
      "text/plain": [
       "(20, 15, 25, 4, 80)"
      ]
     },
     "execution_count": 17,
     "metadata": {},
     "output_type": "execute_result"
    }
   ],
   "source": [
    "my_tuple = (20, 15, 25, 4, 80)\n",
    "my_tuple"
   ]
  },
  {
   "cell_type": "code",
   "execution_count": 18,
   "id": "82a9236f-5628-4874-ae61-90a00ba7959a",
   "metadata": {},
   "outputs": [
    {
     "name": "stdout",
     "output_type": "stream",
     "text": [
      "(15, 25)\n"
     ]
    }
   ],
   "source": [
    "print(my_tuple[1:3])"
   ]
  },
  {
   "cell_type": "markdown",
   "id": "71b213b6-5be7-488a-aa65-a91d66f8f147",
   "metadata": {},
   "source": [
    "# length"
   ]
  },
  {
   "cell_type": "code",
   "execution_count": 23,
   "id": "82c4a70e-be57-4b2a-b25d-11ff69e37f85",
   "metadata": {},
   "outputs": [
    {
     "data": {
      "text/plain": [
       "(3, 15, 63, 25, 78, 90, 70, 55, 48)"
      ]
     },
     "execution_count": 23,
     "metadata": {},
     "output_type": "execute_result"
    }
   ],
   "source": [
    "my_tuple\n",
    "(3, 15, 63, 25, 78, 90, 70, 55, 48)"
   ]
  },
  {
   "cell_type": "code",
   "execution_count": 24,
   "id": "0e3400e5-7eeb-4fa3-a681-6b8e58272cd7",
   "metadata": {},
   "outputs": [
    {
     "name": "stdout",
     "output_type": "stream",
     "text": [
      "9\n"
     ]
    }
   ],
   "source": [
    "print(len(my_tuple))"
   ]
  },
  {
   "cell_type": "markdown",
   "id": "705cec48-03c9-4280-8539-436e26e2dc38",
   "metadata": {},
   "source": [
    "# Concatenation"
   ]
  },
  {
   "cell_type": "code",
   "execution_count": 28,
   "id": "c724023c-99b5-4034-9358-fcca0406ec0c",
   "metadata": {},
   "outputs": [],
   "source": [
    "tuple1 = (8,7,9,6,5,3,4,1,2)\n",
    "tuple2 = (92,13,92,67,56,35,44,28,19,37,75)\n",
    "concatenation_tuple = tuple1 + tuple2"
   ]
  },
  {
   "cell_type": "code",
   "execution_count": 30,
   "id": "6e095009-5562-4cd7-92bd-b5a3408be4e1",
   "metadata": {},
   "outputs": [
    {
     "name": "stdout",
     "output_type": "stream",
     "text": [
      "(8, 7, 9, 6, 5, 3, 4, 1, 2, 92, 13, 92, 67, 56, 35, 44, 28, 19, 37, 75)\n"
     ]
    }
   ],
   "source": [
    "print(concatenation_tuple)"
   ]
  },
  {
   "cell_type": "markdown",
   "id": "34d6ecd1-700e-4bd4-85d7-8af507a1350e",
   "metadata": {},
   "source": [
    "# Repetition"
   ]
  },
  {
   "cell_type": "code",
   "execution_count": 43,
   "id": "a1d7f52f-3102-4c51-b9f5-3c66b9e5a47e",
   "metadata": {},
   "outputs": [],
   "source": [
    "my_tuple = (9,8,7,6,5,4,)\n",
    "my_tuple = (9, 8, 7, 6, 5, 4)\n",
    "repeated_tuple = my_tuple *3"
   ]
  },
  {
   "cell_type": "code",
   "execution_count": 44,
   "id": "dcab0220-e793-4cd2-996b-e32d513c9b84",
   "metadata": {},
   "outputs": [
    {
     "name": "stdout",
     "output_type": "stream",
     "text": [
      "(9, 8, 7, 6, 5, 4, 9, 8, 7, 6, 5, 4, 9, 8, 7, 6, 5, 4)\n"
     ]
    }
   ],
   "source": [
    "print(repeated_tuple)\n"
   ]
  },
  {
   "cell_type": "markdown",
   "id": "ca5e2a54-dc60-4836-adc6-f8301273d51e",
   "metadata": {},
   "source": [
    "# count"
   ]
  },
  {
   "cell_type": "code",
   "execution_count": 56,
   "id": "c768597e-a5b2-421a-8247-27f38ecd8108",
   "metadata": {},
   "outputs": [],
   "source": [
    "my_tuple = (1,8,9,6,5,4,3,1)\n",
    "my_tuple = (8, 7, 9, 5, 4, 1, 2,1)\n"
   ]
  },
  {
   "cell_type": "code",
   "execution_count": 57,
   "id": "f41df21d-8a09-4a74-a84c-6189bf0cc828",
   "metadata": {},
   "outputs": [
    {
     "name": "stdout",
     "output_type": "stream",
     "text": [
      "2\n"
     ]
    }
   ],
   "source": [
    "print(my_tuple.count(1))"
   ]
  },
  {
   "cell_type": "markdown",
   "id": "b2be0c6a-440a-465c-8604-528075d9a764",
   "metadata": {},
   "source": [
    "# sorted"
   ]
  },
  {
   "cell_type": "code",
   "execution_count": 77,
   "id": "2a6d224a-7358-4ee6-b9d9-81e6e8c659d3",
   "metadata": {},
   "outputs": [
    {
     "data": {
      "text/plain": [
       "[9.3, 3.6, 76, 34, 75, 65, 20, 82]"
      ]
     },
     "execution_count": 77,
     "metadata": {},
     "output_type": "execute_result"
    }
   ],
   "source": [
    "my_tuple = (65,86,7.8,90,5.8,34,26,45)\n",
    "my_tuple = (65,86,7.8,90,5.8,34,26,45)\n",
    "my_tuple\n",
    "(65, 86, 7.8, 90, 5.8, 34, 26, 45)\n",
    "my_tuple1 = sorted(my_tuple)\n",
    "my_tuple1\n",
    "my_tuple1\n",
    "[5.8, 7.8, 26, 34, 45, 65, 86, 90]\n",
    "my_tuple2 = sorted(my_tuple)\n",
    "my_tuple2\n",
    "my_tuple2\n",
    "[9.3, 3.6, 76, 34, 75, 65, 20, 82]\n"
   ]
  },
  {
   "cell_type": "code",
   "execution_count": null,
   "id": "dbf87538-2d36-4e63-9ab4-1fb163696787",
   "metadata": {},
   "outputs": [],
   "source": []
  }
 ],
 "metadata": {
  "kernelspec": {
   "display_name": "Python 3 (ipykernel)",
   "language": "python",
   "name": "python3"
  },
  "language_info": {
   "codemirror_mode": {
    "name": "ipython",
    "version": 3
   },
   "file_extension": ".py",
   "mimetype": "text/x-python",
   "name": "python",
   "nbconvert_exporter": "python",
   "pygments_lexer": "ipython3",
   "version": "3.11.7"
  }
 },
 "nbformat": 4,
 "nbformat_minor": 5
}
