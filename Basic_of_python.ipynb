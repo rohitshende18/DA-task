{
 "cells": [
  {
   "cell_type": "markdown",
   "id": "cabb57b5-2f24-4af0-8f86-885e31db739b",
   "metadata": {},
   "source": [
    "# Basic Arithmatic Operations"
   ]
  },
  {
   "cell_type": "markdown",
   "id": "b47ac998-14a4-4409-876c-64677e8e6cb0",
   "metadata": {},
   "source": [
    "### Add"
   ]
  },
  {
   "cell_type": "code",
   "execution_count": 2,
   "id": "a5668f87-46e0-4351-95b1-45d0d90d8736",
   "metadata": {},
   "outputs": [
    {
     "data": {
      "text/plain": [
       "88"
      ]
     },
     "execution_count": 2,
     "metadata": {},
     "output_type": "execute_result"
    }
   ],
   "source": [
    "25+63"
   ]
  },
  {
   "cell_type": "code",
   "execution_count": 1,
   "id": "38842170-821f-458b-81a7-c8139c805e5d",
   "metadata": {},
   "outputs": [
    {
     "name": "stdout",
     "output_type": "stream",
     "text": [
      "88\n"
     ]
    }
   ],
   "source": [
    "val1 = 25+63\n",
    "\n",
    "print(val1)"
   ]
  },
  {
   "cell_type": "markdown",
   "id": "eb31caf8-ea04-451f-8d54-700ac9ae1888",
   "metadata": {},
   "source": [
    "## Sub"
   ]
  },
  {
   "cell_type": "code",
   "execution_count": 3,
   "id": "91ee8d43-c9d3-4f58-bfe4-3ec6c044b622",
   "metadata": {},
   "outputs": [
    {
     "data": {
      "text/plain": [
       "13"
      ]
     },
     "execution_count": 3,
     "metadata": {},
     "output_type": "execute_result"
    }
   ],
   "source": [
    "78-65"
   ]
  },
  {
   "cell_type": "code",
   "execution_count": 4,
   "id": "de2f9a15-0993-42c8-bafc-aa1cc0b92df3",
   "metadata": {},
   "outputs": [
    {
     "name": "stdout",
     "output_type": "stream",
     "text": [
      "13\n"
     ]
    }
   ],
   "source": [
    "val2 =78-65\n",
    "\n",
    "print(val2)"
   ]
  },
  {
   "cell_type": "markdown",
   "id": "db311f37-99d1-4fb7-8b41-b4de35949d7e",
   "metadata": {},
   "source": [
    "## Multiplication"
   ]
  },
  {
   "cell_type": "code",
   "execution_count": 5,
   "id": "44cac8df-3900-487c-9b77-97fa9a1c95bf",
   "metadata": {},
   "outputs": [
    {
     "data": {
      "text/plain": [
       "144"
      ]
     },
     "execution_count": 5,
     "metadata": {},
     "output_type": "execute_result"
    }
   ],
   "source": [
    "24*6"
   ]
  },
  {
   "cell_type": "code",
   "execution_count": 6,
   "id": "6d909087-0216-4aa8-8446-eda713880384",
   "metadata": {},
   "outputs": [
    {
     "name": "stdout",
     "output_type": "stream",
     "text": [
      "144\n"
     ]
    }
   ],
   "source": [
    "val3 = 24*6\n",
    "\n",
    "print(val3)"
   ]
  },
  {
   "cell_type": "markdown",
   "id": "55b17542-e0c2-466d-bb0a-d20f36e960e6",
   "metadata": {},
   "source": [
    "## Division "
   ]
  },
  {
   "cell_type": "code",
   "execution_count": 7,
   "id": "8a387baa-d01b-4003-9da9-67d46feed511",
   "metadata": {},
   "outputs": [
    {
     "data": {
      "text/plain": [
       "10.0"
      ]
     },
     "execution_count": 7,
     "metadata": {},
     "output_type": "execute_result"
    }
   ],
   "source": [
    "30/3"
   ]
  },
  {
   "cell_type": "code",
   "execution_count": 8,
   "id": "e46eaaf2-665c-47cd-8027-b08a4918b537",
   "metadata": {},
   "outputs": [
    {
     "name": "stdout",
     "output_type": "stream",
     "text": [
      "10.0\n"
     ]
    }
   ],
   "source": [
    "val4 = 30/3\n",
    "\n",
    "print(val4)"
   ]
  },
  {
   "cell_type": "markdown",
   "id": "dfe7d16b-049c-4088-be40-e3959293a3d1",
   "metadata": {},
   "source": [
    "## All values"
   ]
  },
  {
   "cell_type": "code",
   "execution_count": 9,
   "id": "36d2ccb7-a4ca-42f5-a9d0-f738f1b09378",
   "metadata": {},
   "outputs": [
    {
     "name": "stdout",
     "output_type": "stream",
     "text": [
      "88\n",
      "13\n",
      "144\n",
      "10.0\n"
     ]
    }
   ],
   "source": [
    "print(val1)\n",
    "print(val2)\n",
    "print(val3)\n",
    "print(val4)"
   ]
  },
  {
   "cell_type": "code",
   "execution_count": 14,
   "id": "732715a9-eb8c-4477-9c2c-d1382b163c9a",
   "metadata": {},
   "outputs": [
    {
     "name": "stdout",
     "output_type": "stream",
     "text": [
      "25\n"
     ]
    }
   ],
   "source": [
    "# power value\n",
    "\n",
    "print(5**2)"
   ]
  },
  {
   "cell_type": "code",
   "execution_count": 15,
   "id": "dec19d31-dcbd-4da6-8bc1-b1df4aa5bc4f",
   "metadata": {},
   "outputs": [
    {
     "name": "stdout",
     "output_type": "stream",
     "text": [
      "4.8\n",
      "4\n"
     ]
    }
   ],
   "source": [
    "# mod\n",
    "\n",
    "print(24 / 5)\n",
    "print(24 % 5)"
   ]
  },
  {
   "cell_type": "code",
   "execution_count": 18,
   "id": "4bd1d534-9786-448a-8100-8e0e6368ed3d",
   "metadata": {},
   "outputs": [
    {
     "name": "stdout",
     "output_type": "stream",
     "text": [
      "20\n",
      "24\n"
     ]
    }
   ],
   "source": [
    "# bodmas\n",
    "\n",
    "print(10+5*2)\n",
    "print((10+2)*2)"
   ]
  },
  {
   "cell_type": "code",
   "execution_count": null,
   "id": "14525a2c-c83d-482b-8091-886923877df9",
   "metadata": {},
   "outputs": [],
   "source": []
  }
 ],
 "metadata": {
  "kernelspec": {
   "display_name": "Python 3 (ipykernel)",
   "language": "python",
   "name": "python3"
  },
  "language_info": {
   "codemirror_mode": {
    "name": "ipython",
    "version": 3
   },
   "file_extension": ".py",
   "mimetype": "text/x-python",
   "name": "python",
   "nbconvert_exporter": "python",
   "pygments_lexer": "ipython3",
   "version": "3.11.7"
  }
 },
 "nbformat": 4,
 "nbformat_minor": 5
}
