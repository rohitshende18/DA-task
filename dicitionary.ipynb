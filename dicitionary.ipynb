{
 "cells": [
  {
   "cell_type": "code",
   "execution_count": 1,
   "id": "a85c153d-763b-46ab-8ed3-833f7ec5c6a5",
   "metadata": {},
   "outputs": [],
   "source": [
    "mydict = {\"name\":\"rock\",\"class\":\"DA\",\"marks\":70}"
   ]
  },
  {
   "cell_type": "code",
   "execution_count": 2,
   "id": "8867c1ef-c676-44e5-96e9-5ca8540725e8",
   "metadata": {},
   "outputs": [
    {
     "data": {
      "text/plain": [
       "{'name': 'rock', 'class': 'DA', 'marks': 70}"
      ]
     },
     "execution_count": 2,
     "metadata": {},
     "output_type": "execute_result"
    }
   ],
   "source": [
    "mydict"
   ]
  },
  {
   "cell_type": "code",
   "execution_count": 3,
   "id": "76ca0e83-bf89-4b54-bde2-9f3b8a703db5",
   "metadata": {},
   "outputs": [
    {
     "data": {
      "text/plain": [
       "'rock'"
      ]
     },
     "execution_count": 3,
     "metadata": {},
     "output_type": "execute_result"
    }
   ],
   "source": [
    "mydict[\"name\"]"
   ]
  },
  {
   "cell_type": "code",
   "execution_count": 4,
   "id": "5629abf3-4f0f-482f-9d12-bd28983f6856",
   "metadata": {},
   "outputs": [],
   "source": [
    "name1 = 'rock'\n",
    "class1 = 'DA'"
   ]
  },
  {
   "cell_type": "code",
   "execution_count": 5,
   "id": "7314942b-14c4-45ab-ad51-40bbf3656f90",
   "metadata": {},
   "outputs": [],
   "source": [
    "d1 = {'name': name1 , 'class': class1}"
   ]
  },
  {
   "cell_type": "code",
   "execution_count": 6,
   "id": "c6fbbf51-4ac9-4726-82ff-7e27b6c4e56a",
   "metadata": {},
   "outputs": [
    {
     "data": {
      "text/plain": [
       "{'name': 'rock', 'class': 'DA'}"
      ]
     },
     "execution_count": 6,
     "metadata": {},
     "output_type": "execute_result"
    }
   ],
   "source": [
    "d1"
   ]
  },
  {
   "cell_type": "code",
   "execution_count": 7,
   "id": "8c416877-ac64-4240-9621-8c181e20999c",
   "metadata": {},
   "outputs": [
    {
     "data": {
      "text/plain": [
       "dict"
      ]
     },
     "execution_count": 7,
     "metadata": {},
     "output_type": "execute_result"
    }
   ],
   "source": [
    "type(d1)"
   ]
  },
  {
   "cell_type": "code",
   "execution_count": 8,
   "id": "92edc366-fed4-469b-8cc3-be6d8db478c8",
   "metadata": {},
   "outputs": [
    {
     "name": "stdout",
     "output_type": "stream",
     "text": [
      "rock\n",
      "DA\n"
     ]
    }
   ],
   "source": [
    "print(d1['name'])\n",
    "\n",
    "print(d1['class'])\n"
   ]
  },
  {
   "cell_type": "code",
   "execution_count": 9,
   "id": "1cd695e1-1eaf-4132-8844-e289d5082630",
   "metadata": {},
   "outputs": [],
   "source": [
    "name1 = 'troy'"
   ]
  },
  {
   "cell_type": "code",
   "execution_count": 10,
   "id": "fab4a1d0-59a0-47f1-9743-000586dd67f2",
   "metadata": {},
   "outputs": [
    {
     "data": {
      "text/plain": [
       "'troy'"
      ]
     },
     "execution_count": 10,
     "metadata": {},
     "output_type": "execute_result"
    }
   ],
   "source": [
    "name1"
   ]
  },
  {
   "cell_type": "code",
   "execution_count": 13,
   "id": "d6f896d4-988d-49f0-8744-6420047aaed9",
   "metadata": {},
   "outputs": [
    {
     "data": {
      "text/plain": [
       "{'name': 'rock', 'class': 'DA'}"
      ]
     },
     "execution_count": 13,
     "metadata": {},
     "output_type": "execute_result"
    }
   ],
   "source": [
    "d1"
   ]
  },
  {
   "cell_type": "code",
   "execution_count": 14,
   "id": "159770ea-628c-4749-9c1d-4ea2452a890a",
   "metadata": {},
   "outputs": [
    {
     "data": {
      "text/plain": [
       "'rock'"
      ]
     },
     "execution_count": 14,
     "metadata": {},
     "output_type": "execute_result"
    }
   ],
   "source": [
    "d1['name']"
   ]
  },
  {
   "cell_type": "code",
   "execution_count": 29,
   "id": "1e254aaf-b40d-41a4-a38b-a4bde8738d32",
   "metadata": {},
   "outputs": [],
   "source": [
    "l1 = ['xy1', 'xy2']\n",
    "t1 = ('t1', 't2')"
   ]
  },
  {
   "cell_type": "code",
   "execution_count": 30,
   "id": "03b6fa05-b28b-4f39-bf0a-21e94d46f2da",
   "metadata": {},
   "outputs": [],
   "source": [
    "d2 = {'list1': l1, 'tuple1': t1, 1:4 , 'x1': 'x2'}"
   ]
  },
  {
   "cell_type": "code",
   "execution_count": 31,
   "id": "96f6ecfc-1e6d-4adb-9f75-889d49a5386e",
   "metadata": {},
   "outputs": [
    {
     "data": {
      "text/plain": [
       "{'list1': ['xy1', 'xy2'], 'tuple1': ('t1', 't2'), 1: 4, 'x1': 'x2'}"
      ]
     },
     "execution_count": 31,
     "metadata": {},
     "output_type": "execute_result"
    }
   ],
   "source": [
    "d2"
   ]
  },
  {
   "cell_type": "code",
   "execution_count": 32,
   "id": "dd9abba1-6cca-4ccb-9391-0ef655fcea00",
   "metadata": {},
   "outputs": [
    {
     "name": "stdout",
     "output_type": "stream",
     "text": [
      "['xy1', 'xy2']\n",
      "<class 'list'>\n"
     ]
    }
   ],
   "source": [
    "print(d2['list1'])\n",
    "print(type(d2['list1']))"
   ]
  },
  {
   "cell_type": "code",
   "execution_count": 33,
   "id": "9cc86acc-db85-41fa-aa2a-959017ec2544",
   "metadata": {},
   "outputs": [
    {
     "name": "stdout",
     "output_type": "stream",
     "text": [
      "('t1', 't2')\n",
      "<class 'tuple'>\n"
     ]
    }
   ],
   "source": [
    "print(d2['tuple1'])\n",
    "print(type(d2['tuple1']))"
   ]
  },
  {
   "cell_type": "code",
   "execution_count": 34,
   "id": "14ca8195-eb49-4e63-91a5-1ede4a260e2f",
   "metadata": {},
   "outputs": [
    {
     "data": {
      "text/plain": [
       "4"
      ]
     },
     "execution_count": 34,
     "metadata": {},
     "output_type": "execute_result"
    }
   ],
   "source": [
    "d2[1]"
   ]
  },
  {
   "cell_type": "code",
   "execution_count": 35,
   "id": "d897e66c-7313-46c1-a13e-4b82966efc67",
   "metadata": {},
   "outputs": [
    {
     "data": {
      "text/plain": [
       "'x2'"
      ]
     },
     "execution_count": 35,
     "metadata": {},
     "output_type": "execute_result"
    }
   ],
   "source": [
    "d2['x1']"
   ]
  },
  {
   "cell_type": "code",
   "execution_count": 36,
   "id": "a3a91ce0-7ffb-4d0e-83f6-300e49809d7a",
   "metadata": {},
   "outputs": [
    {
     "data": {
      "text/plain": [
       "dict_items([('list1', ['xy1', 'xy2']), ('tuple1', ('t1', 't2')), (1, 4), ('x1', 'x2')])"
      ]
     },
     "execution_count": 36,
     "metadata": {},
     "output_type": "execute_result"
    }
   ],
   "source": [
    "d2.items()"
   ]
  },
  {
   "cell_type": "code",
   "execution_count": 37,
   "id": "2b193594-516c-404d-9c13-74f90466fc16",
   "metadata": {},
   "outputs": [
    {
     "data": {
      "text/plain": [
       "dict_keys(['list1', 'tuple1', 1, 'x1'])"
      ]
     },
     "execution_count": 37,
     "metadata": {},
     "output_type": "execute_result"
    }
   ],
   "source": [
    "d2.keys()"
   ]
  },
  {
   "cell_type": "code",
   "execution_count": 39,
   "id": "f8a72265-bb6f-4187-b0e0-ddded824955b",
   "metadata": {},
   "outputs": [],
   "source": [
    "pop1 = d2.pop('x1')"
   ]
  },
  {
   "cell_type": "code",
   "execution_count": 40,
   "id": "a27ed074-7913-4a5b-bae8-448096f180d6",
   "metadata": {},
   "outputs": [
    {
     "data": {
      "text/plain": [
       "'x2'"
      ]
     },
     "execution_count": 40,
     "metadata": {},
     "output_type": "execute_result"
    }
   ],
   "source": [
    "pop1"
   ]
  },
  {
   "cell_type": "code",
   "execution_count": 41,
   "id": "022f46c2-5154-4db6-921a-c2eacdd0ae48",
   "metadata": {},
   "outputs": [
    {
     "data": {
      "text/plain": [
       "{'list1': ['xy1', 'xy2'], 'tuple1': ('t1', 't2'), 1: 4}"
      ]
     },
     "execution_count": 41,
     "metadata": {},
     "output_type": "execute_result"
    }
   ],
   "source": [
    "d2"
   ]
  },
  {
   "cell_type": "code",
   "execution_count": null,
   "id": "9cdc81ef-f8e9-4685-b4a1-64350de20d36",
   "metadata": {},
   "outputs": [],
   "source": []
  }
 ],
 "metadata": {
  "kernelspec": {
   "display_name": "Python 3 (ipykernel)",
   "language": "python",
   "name": "python3"
  },
  "language_info": {
   "codemirror_mode": {
    "name": "ipython",
    "version": 3
   },
   "file_extension": ".py",
   "mimetype": "text/x-python",
   "name": "python",
   "nbconvert_exporter": "python",
   "pygments_lexer": "ipython3",
   "version": "3.11.7"
  }
 },
 "nbformat": 4,
 "nbformat_minor": 5
}
